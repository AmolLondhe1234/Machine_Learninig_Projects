{
 "cells": [
  {
   "cell_type": "code",
   "execution_count": 2,
   "metadata": {},
   "outputs": [],
   "source": [
    "import pandas as pd\n"
   ]
  },
  {
   "cell_type": "code",
   "execution_count": 3,
   "metadata": {},
   "outputs": [],
   "source": [
    "df = pd.read_excel('C:\\\\Users\\\\Amol\\\\Downloads\\\\carlane.xlsx')"
   ]
  },
  {
   "cell_type": "code",
   "execution_count": 4,
   "metadata": {},
   "outputs": [
    {
     "data": {
      "text/html": [
       "<div>\n",
       "<style scoped>\n",
       "    .dataframe tbody tr th:only-of-type {\n",
       "        vertical-align: middle;\n",
       "    }\n",
       "\n",
       "    .dataframe tbody tr th {\n",
       "        vertical-align: top;\n",
       "    }\n",
       "\n",
       "    .dataframe thead th {\n",
       "        text-align: right;\n",
       "    }\n",
       "</style>\n",
       "<table border=\"1\" class=\"dataframe\">\n",
       "  <thead>\n",
       "    <tr style=\"text-align: right;\">\n",
       "      <th></th>\n",
       "      <th>rd</th>\n",
       "      <th>ld</th>\n",
       "      <th>label</th>\n",
       "    </tr>\n",
       "  </thead>\n",
       "  <tbody>\n",
       "    <tr>\n",
       "      <th>0</th>\n",
       "      <td>1</td>\n",
       "      <td>1</td>\n",
       "      <td>OutLane</td>\n",
       "    </tr>\n",
       "    <tr>\n",
       "      <th>1</th>\n",
       "      <td>4</td>\n",
       "      <td>6</td>\n",
       "      <td>OutLane</td>\n",
       "    </tr>\n",
       "    <tr>\n",
       "      <th>2</th>\n",
       "      <td>3</td>\n",
       "      <td>6</td>\n",
       "      <td>OutLane</td>\n",
       "    </tr>\n",
       "    <tr>\n",
       "      <th>3</th>\n",
       "      <td>5</td>\n",
       "      <td>8</td>\n",
       "      <td>InLane</td>\n",
       "    </tr>\n",
       "    <tr>\n",
       "      <th>4</th>\n",
       "      <td>7</td>\n",
       "      <td>1</td>\n",
       "      <td>OutLane</td>\n",
       "    </tr>\n",
       "    <tr>\n",
       "      <th>...</th>\n",
       "      <td>...</td>\n",
       "      <td>...</td>\n",
       "      <td>...</td>\n",
       "    </tr>\n",
       "    <tr>\n",
       "      <th>195</th>\n",
       "      <td>1</td>\n",
       "      <td>4</td>\n",
       "      <td>OutLane</td>\n",
       "    </tr>\n",
       "    <tr>\n",
       "      <th>196</th>\n",
       "      <td>2</td>\n",
       "      <td>5</td>\n",
       "      <td>OutLane</td>\n",
       "    </tr>\n",
       "    <tr>\n",
       "      <th>197</th>\n",
       "      <td>8</td>\n",
       "      <td>5</td>\n",
       "      <td>InLane</td>\n",
       "    </tr>\n",
       "    <tr>\n",
       "      <th>198</th>\n",
       "      <td>6</td>\n",
       "      <td>8</td>\n",
       "      <td>InLane</td>\n",
       "    </tr>\n",
       "    <tr>\n",
       "      <th>199</th>\n",
       "      <td>7</td>\n",
       "      <td>6</td>\n",
       "      <td>InLane</td>\n",
       "    </tr>\n",
       "  </tbody>\n",
       "</table>\n",
       "<p>200 rows × 3 columns</p>\n",
       "</div>"
      ],
      "text/plain": [
       "     rd  ld    label\n",
       "0     1   1  OutLane\n",
       "1     4   6  OutLane\n",
       "2     3   6  OutLane\n",
       "3     5   8   InLane\n",
       "4     7   1  OutLane\n",
       "..   ..  ..      ...\n",
       "195   1   4  OutLane\n",
       "196   2   5  OutLane\n",
       "197   8   5   InLane\n",
       "198   6   8   InLane\n",
       "199   7   6   InLane\n",
       "\n",
       "[200 rows x 3 columns]"
      ]
     },
     "execution_count": 4,
     "metadata": {},
     "output_type": "execute_result"
    }
   ],
   "source": [
    "df"
   ]
  },
  {
   "cell_type": "code",
   "execution_count": 6,
   "metadata": {},
   "outputs": [
    {
     "data": {
      "text/plain": [
       "array(['OutLane', 'InLane'], dtype=object)"
      ]
     },
     "execution_count": 6,
     "metadata": {},
     "output_type": "execute_result"
    }
   ],
   "source": [
    "df['label'].unique()"
   ]
  },
  {
   "cell_type": "code",
   "execution_count": 7,
   "metadata": {},
   "outputs": [],
   "source": [
    "x=df[['rd','ld']]"
   ]
  },
  {
   "cell_type": "code",
   "execution_count": 8,
   "metadata": {},
   "outputs": [
    {
     "data": {
      "text/html": [
       "<div>\n",
       "<style scoped>\n",
       "    .dataframe tbody tr th:only-of-type {\n",
       "        vertical-align: middle;\n",
       "    }\n",
       "\n",
       "    .dataframe tbody tr th {\n",
       "        vertical-align: top;\n",
       "    }\n",
       "\n",
       "    .dataframe thead th {\n",
       "        text-align: right;\n",
       "    }\n",
       "</style>\n",
       "<table border=\"1\" class=\"dataframe\">\n",
       "  <thead>\n",
       "    <tr style=\"text-align: right;\">\n",
       "      <th></th>\n",
       "      <th>rd</th>\n",
       "      <th>ld</th>\n",
       "    </tr>\n",
       "  </thead>\n",
       "  <tbody>\n",
       "    <tr>\n",
       "      <th>0</th>\n",
       "      <td>1</td>\n",
       "      <td>1</td>\n",
       "    </tr>\n",
       "    <tr>\n",
       "      <th>1</th>\n",
       "      <td>4</td>\n",
       "      <td>6</td>\n",
       "    </tr>\n",
       "    <tr>\n",
       "      <th>2</th>\n",
       "      <td>3</td>\n",
       "      <td>6</td>\n",
       "    </tr>\n",
       "    <tr>\n",
       "      <th>3</th>\n",
       "      <td>5</td>\n",
       "      <td>8</td>\n",
       "    </tr>\n",
       "    <tr>\n",
       "      <th>4</th>\n",
       "      <td>7</td>\n",
       "      <td>1</td>\n",
       "    </tr>\n",
       "    <tr>\n",
       "      <th>...</th>\n",
       "      <td>...</td>\n",
       "      <td>...</td>\n",
       "    </tr>\n",
       "    <tr>\n",
       "      <th>195</th>\n",
       "      <td>1</td>\n",
       "      <td>4</td>\n",
       "    </tr>\n",
       "    <tr>\n",
       "      <th>196</th>\n",
       "      <td>2</td>\n",
       "      <td>5</td>\n",
       "    </tr>\n",
       "    <tr>\n",
       "      <th>197</th>\n",
       "      <td>8</td>\n",
       "      <td>5</td>\n",
       "    </tr>\n",
       "    <tr>\n",
       "      <th>198</th>\n",
       "      <td>6</td>\n",
       "      <td>8</td>\n",
       "    </tr>\n",
       "    <tr>\n",
       "      <th>199</th>\n",
       "      <td>7</td>\n",
       "      <td>6</td>\n",
       "    </tr>\n",
       "  </tbody>\n",
       "</table>\n",
       "<p>200 rows × 2 columns</p>\n",
       "</div>"
      ],
      "text/plain": [
       "     rd  ld\n",
       "0     1   1\n",
       "1     4   6\n",
       "2     3   6\n",
       "3     5   8\n",
       "4     7   1\n",
       "..   ..  ..\n",
       "195   1   4\n",
       "196   2   5\n",
       "197   8   5\n",
       "198   6   8\n",
       "199   7   6\n",
       "\n",
       "[200 rows x 2 columns]"
      ]
     },
     "execution_count": 8,
     "metadata": {},
     "output_type": "execute_result"
    }
   ],
   "source": [
    "x"
   ]
  },
  {
   "cell_type": "code",
   "execution_count": 9,
   "metadata": {},
   "outputs": [],
   "source": [
    "y=df['label']"
   ]
  },
  {
   "cell_type": "code",
   "execution_count": 10,
   "metadata": {},
   "outputs": [
    {
     "data": {
      "text/plain": [
       "0      OutLane\n",
       "1      OutLane\n",
       "2      OutLane\n",
       "3       InLane\n",
       "4      OutLane\n",
       "        ...   \n",
       "195    OutLane\n",
       "196    OutLane\n",
       "197     InLane\n",
       "198     InLane\n",
       "199     InLane\n",
       "Name: label, Length: 200, dtype: object"
      ]
     },
     "execution_count": 10,
     "metadata": {},
     "output_type": "execute_result"
    }
   ],
   "source": [
    "y"
   ]
  },
  {
   "cell_type": "code",
   "execution_count": 11,
   "metadata": {},
   "outputs": [],
   "source": [
    "from sklearn.linear_model import LogisticRegression"
   ]
  },
  {
   "cell_type": "code",
   "execution_count": 12,
   "metadata": {},
   "outputs": [],
   "source": [
    "lr=LogisticRegression()"
   ]
  },
  {
   "cell_type": "code",
   "execution_count": 13,
   "metadata": {},
   "outputs": [
    {
     "data": {
      "text/plain": [
       "LogisticRegression()"
      ]
     },
     "execution_count": 13,
     "metadata": {},
     "output_type": "execute_result"
    }
   ],
   "source": [
    "lr.fit(x,y)"
   ]
  },
  {
   "cell_type": "code",
   "execution_count": 20,
   "metadata": {},
   "outputs": [
    {
     "data": {
      "text/plain": [
       "array(['OutLane', 'OutLane', 'OutLane', 'InLane', 'OutLane', 'OutLane',\n",
       "       'InLane', 'InLane', 'OutLane', 'InLane', 'OutLane', 'InLane',\n",
       "       'InLane', 'OutLane', 'OutLane', 'OutLane', 'OutLane', 'OutLane',\n",
       "       'InLane', 'OutLane', 'OutLane', 'OutLane', 'OutLane', 'OutLane',\n",
       "       'InLane', 'OutLane', 'OutLane', 'OutLane', 'OutLane', 'OutLane',\n",
       "       'OutLane', 'OutLane', 'InLane', 'OutLane', 'InLane', 'InLane',\n",
       "       'OutLane', 'OutLane', 'OutLane', 'OutLane', 'OutLane', 'OutLane',\n",
       "       'InLane', 'OutLane', 'InLane', 'OutLane', 'InLane', 'InLane',\n",
       "       'OutLane', 'InLane', 'InLane', 'InLane', 'InLane', 'OutLane',\n",
       "       'OutLane', 'InLane', 'OutLane', 'InLane', 'InLane', 'OutLane',\n",
       "       'OutLane', 'OutLane', 'OutLane', 'OutLane', 'OutLane', 'InLane',\n",
       "       'InLane', 'OutLane', 'InLane', 'OutLane', 'OutLane', 'InLane',\n",
       "       'InLane', 'InLane', 'OutLane', 'OutLane', 'OutLane', 'OutLane',\n",
       "       'InLane', 'OutLane', 'InLane', 'OutLane', 'OutLane', 'OutLane',\n",
       "       'OutLane', 'OutLane', 'InLane', 'InLane', 'OutLane', 'OutLane',\n",
       "       'InLane', 'OutLane', 'OutLane', 'InLane', 'OutLane', 'OutLane',\n",
       "       'OutLane', 'OutLane', 'OutLane', 'OutLane', 'InLane', 'InLane',\n",
       "       'OutLane', 'OutLane', 'OutLane', 'OutLane', 'OutLane', 'OutLane',\n",
       "       'OutLane', 'InLane', 'InLane', 'OutLane', 'OutLane', 'InLane',\n",
       "       'InLane', 'OutLane', 'InLane', 'OutLane', 'OutLane', 'OutLane',\n",
       "       'InLane', 'OutLane', 'InLane', 'OutLane', 'OutLane', 'OutLane',\n",
       "       'OutLane', 'OutLane', 'OutLane', 'OutLane', 'OutLane', 'OutLane',\n",
       "       'OutLane', 'OutLane', 'OutLane', 'OutLane', 'InLane', 'OutLane',\n",
       "       'InLane', 'OutLane', 'OutLane', 'OutLane', 'InLane', 'InLane',\n",
       "       'InLane', 'OutLane', 'OutLane', 'InLane', 'OutLane', 'OutLane',\n",
       "       'OutLane', 'OutLane', 'InLane', 'OutLane', 'OutLane', 'OutLane',\n",
       "       'OutLane', 'OutLane', 'InLane', 'OutLane', 'OutLane', 'OutLane',\n",
       "       'OutLane', 'OutLane', 'OutLane', 'InLane', 'OutLane', 'InLane',\n",
       "       'OutLane', 'OutLane', 'OutLane', 'InLane', 'OutLane', 'OutLane',\n",
       "       'OutLane', 'InLane', 'InLane', 'InLane', 'OutLane', 'OutLane',\n",
       "       'OutLane', 'InLane', 'InLane', 'InLane', 'InLane', 'InLane',\n",
       "       'InLane', 'OutLane', 'OutLane', 'InLane', 'InLane', 'InLane',\n",
       "       'OutLane', 'OutLane', 'OutLane', 'OutLane', 'OutLane', 'InLane',\n",
       "       'InLane', 'InLane'], dtype=object)"
      ]
     },
     "execution_count": 20,
     "metadata": {},
     "output_type": "execute_result"
    }
   ],
   "source": [
    "ypred=lr.predict(x)\n",
    "ypred"
   ]
  },
  {
   "cell_type": "code",
   "execution_count": 15,
   "metadata": {},
   "outputs": [],
   "source": [
    "from sklearn.metrics import classification_report,accuracy_score"
   ]
  },
  {
   "cell_type": "code",
   "execution_count": 21,
   "metadata": {},
   "outputs": [
    {
     "name": "stdout",
     "output_type": "stream",
     "text": [
      "              precision    recall  f1-score   support\n",
      "\n",
      "      InLane       1.00      1.00      1.00        69\n",
      "     OutLane       1.00      1.00      1.00       131\n",
      "\n",
      "    accuracy                           1.00       200\n",
      "   macro avg       1.00      1.00      1.00       200\n",
      "weighted avg       1.00      1.00      1.00       200\n",
      "\n"
     ]
    }
   ],
   "source": [
    "\n",
    "\n",
    "print(classification_report(y,ypred))"
   ]
  },
  {
   "cell_type": "code",
   "execution_count": 18,
   "metadata": {},
   "outputs": [
    {
     "data": {
      "text/plain": [
       "1.0"
      ]
     },
     "execution_count": 18,
     "metadata": {},
     "output_type": "execute_result"
    }
   ],
   "source": [
    "accuracy_score(y,ypred)"
   ]
  },
  {
   "cell_type": "code",
   "execution_count": null,
   "metadata": {},
   "outputs": [],
   "source": []
  }
 ],
 "metadata": {
  "kernelspec": {
   "display_name": "Python 3.10.7 64-bit",
   "language": "python",
   "name": "python3"
  },
  "language_info": {
   "codemirror_mode": {
    "name": "ipython",
    "version": 3
   },
   "file_extension": ".py",
   "mimetype": "text/x-python",
   "name": "python",
   "nbconvert_exporter": "python",
   "pygments_lexer": "ipython3",
   "version": "3.10.7"
  },
  "orig_nbformat": 4,
  "vscode": {
   "interpreter": {
    "hash": "5274717b72b66dc7ec66213a158d392a666aa65d982fc8ff1ccb6f1b64439031"
   }
  }
 },
 "nbformat": 4,
 "nbformat_minor": 2
}
